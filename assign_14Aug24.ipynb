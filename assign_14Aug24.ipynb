{
 "cells": [
  {
   "cell_type": "code",
   "execution_count": 59,
   "id": "38a0545d",
   "metadata": {},
   "outputs": [
    {
     "name": "stdout",
     "output_type": "stream",
     "text": [
      "Grocery Store Discount\n",
      "Enter the Total Purchase Amount :1254\n",
      "Discounted Price is 1128.6\n"
     ]
    }
   ],
   "source": [
    "print(\"Grocery Store Discount\")\n",
    "x=int(input(\"Enter the Total Purchase Amount :\"))\n",
    "\n",
    "if(x>50):\n",
    "    if(x>100):\n",
    "        print('Discounted Price is',x-(x*0.10))\n",
    "    else:\n",
    "        print('Discounted Price is',x-(x*0.05))\n",
    "else:\n",
    "    print(\"You're not eligible for discount\")\n",
    "    "
   ]
  },
  {
   "cell_type": "code",
   "execution_count": 62,
   "id": "3ed56c00",
   "metadata": {},
   "outputs": [
    {
     "name": "stdout",
     "output_type": "stream",
     "text": [
      "Enter your age :5\n",
      "You have to pay 5$\n"
     ]
    }
   ],
   "source": [
    "age=int(input(\"Enter your age :\"))\n",
    "if(age<12 and age>0):\n",
    "    print(\"You have to pay 5$\")\n",
    "elif(age>12 and age<60):\n",
    "    print(\"You Have to pay 10$\")\n",
    "else:\n",
    "    print(\"You have to pay 7$\")"
   ]
  },
  {
   "cell_type": "code",
   "execution_count": 63,
   "id": "2ca4fc40",
   "metadata": {},
   "outputs": [
    {
     "name": "stdout",
     "output_type": "stream",
     "text": [
      "Meal Options\n",
      "1.Morning\n",
      "2.Afternoon\n",
      "3.Evening\n",
      "Choose an option :1\n",
      "\n",
      "Morning Menu\n",
      "Tea : 10 Rs.\n",
      "Coffe : 20 Rs\n",
      "Omlette : 30 Rs\n"
     ]
    }
   ],
   "source": [
    "print(\"Meal Options\\n1.Morning\\n2.Afternoon\\n3.Evening\")\n",
    "opt=int(input('Choose an option :'))\n",
    "if(opt==1):\n",
    "    print(\"\\nMorning Menu\")\n",
    "    dict_Mor={'Tea':'10 Rs.', 'Coffe':'20 Rs', 'Omlette':'30 Rs'}\n",
    "    for key, value in dict_Mor.items():\n",
    "        print(f'{key} : {value}')\n",
    "        \n",
    "elif(opt==2):\n",
    "    print(\"\\nAfternoon Menu\")\n",
    "    dict_Aft={'Chicken Rice':'200 Rs.', 'Mutton Rice':'250 Rs.', 'Pork Rice':'300 Rs'}\n",
    "    for key, value in dict_Aft.items():\n",
    "        print(f'{key} : {value}')\n",
    "        \n",
    "elif(opt==3):\n",
    "    print(\"\\nEvening Menu\")\n",
    "    dict_Eve={'Tea':'10 Rs.', 'Veg pakoda':'50 Rs.', 'Momo':'100 Rs'}\n",
    "    for key, value in dict_Eve.items():\n",
    "        print(f'{key} : {value}')\n",
    "        \n",
    "else:\n",
    "    print(\"Choose correct option\")"
   ]
  },
  {
   "cell_type": "code",
   "execution_count": 64,
   "id": "7b28cd6e",
   "metadata": {},
   "outputs": [
    {
     "name": "stdout",
     "output_type": "stream",
     "text": [
      "Enter Overdue days :5\n",
      "Total Overdue :2.5$\n"
     ]
    }
   ],
   "source": [
    "ovr=int(input(\"Enter Overdue days :\"))\n",
    "if(ovr<=5):\n",
    "    print(f'Total Overdue :{ovr*0.5}$')\n",
    "elif(ovr>5 and ovr<=10):\n",
    "    print(f'Total Overdue :{ovr*1}$')\n",
    "else:\n",
    "    print(f'Total Overdue :{ovr*1.5}$')\n"
   ]
  },
  {
   "cell_type": "code",
   "execution_count": 100,
   "id": "08974817",
   "metadata": {},
   "outputs": [
    {
     "name": "stdout",
     "output_type": "stream",
     "text": [
      "Enter the items :jacket\n",
      "Enter the items :pants\n",
      "Enter the items :shirt\n",
      "Enter the items :socks\n",
      "Enter the items :shoes\n",
      "items you've picked :\n",
      "item 1: jacket\n",
      "item 2: pants\n",
      "item 3: shirt\n",
      "item 4: socks\n",
      "item 5: shoes\n"
     ]
    }
   ],
   "source": [
    "user_lst=[]\n",
    "x=0\n",
    "for i in range (5):\n",
    "    item=input(\"Enter the items :\")\n",
    "    user_lst.append(item)\n",
    "print(\"items you've picked :\")\n",
    "for j in user_lst:\n",
    "    x+=1\n",
    "    print(f'item {x}: {j}')\n",
    "user_lst.clear()"
   ]
  },
  {
   "cell_type": "code",
   "execution_count": 12,
   "id": "1ef06f5a",
   "metadata": {},
   "outputs": [
    {
     "name": "stdout",
     "output_type": "stream",
     "text": [
      "Enter any number :5\n",
      "Odd\n"
     ]
    }
   ],
   "source": [
    "x=int(input(\"Enter any number :\"))\n",
    "if(x%2==0):\n",
    "    print(\"Even\")\n",
    "else:\n",
    "    print(\"Odd\")"
   ]
  },
  {
   "cell_type": "code",
   "execution_count": 2,
   "id": "ae55dee4",
   "metadata": {},
   "outputs": [
    {
     "name": "stdout",
     "output_type": "stream",
     "text": [
      "1 Number :5\n",
      "2 Number :3\n",
      "3 Number :7\n",
      "7>5>3\n"
     ]
    }
   ],
   "source": [
    "x=int(input('1 Number :'))\n",
    "y=int(input('2 Number :'))\n",
    "z=int(input('3 Number :'))\n",
    "\n",
    "if(x>y and x>z):\n",
    "    if(y>z):\n",
    "        print(f'{x}>{y}>{z}')\n",
    "    else:\n",
    "        print(f'{x}>{z}>{y}')\n",
    "elif(y>z and y>x):\n",
    "    if(x>z):\n",
    "        print(f'{y}>{x}>{z}')\n",
    "    else:\n",
    "        print(f'{y}>{z}>{x}')\n",
    "elif(z>x and z>y):\n",
    "    if(y>x):\n",
    "        print(f'{z} is greater than {y} is greater than{x}')\n",
    "    else:\n",
    "        print(f'{z}>{x}>{y}')\n",
    "else:\n",
    "    print(\"No compare\")\n"
   ]
  },
  {
   "cell_type": "code",
   "execution_count": 109,
   "id": "9c353f21",
   "metadata": {},
   "outputs": [
    {
     "name": "stdout",
     "output_type": "stream",
     "text": [
      "[]\n",
      "Total number of list elements :10\n",
      "Enter list of numbers :1\n",
      "Enter list of numbers :2\n",
      "Enter list of numbers :3\n",
      "Enter list of numbers :4\n",
      "Enter list of numbers :5\n",
      "Enter list of numbers :6\n",
      "Enter list of numbers :7\n",
      "Enter list of numbers :8\n",
      "Enter list of numbers :9\n",
      "Enter list of numbers :10\n",
      "[1, 2, 3, 4, 5, 6, 7, 8, 9, 10]\n",
      "Sum of list is: 55\n"
     ]
    }
   ],
   "source": [
    "user_l=[]\n",
    "print(user_l)\n",
    "num=int(input('Total number of list elements :'))\n",
    "for i in range(num):\n",
    "    x=int(input(\"Enter list of numbers :\"))\n",
    "    user_l.append(x)\n",
    "print(user_l)\n",
    "sum=0\n",
    "for j in user_l:\n",
    "    sum=sum+j\n",
    "print(f'Sum of list is: {sum}')\n",
    "user_l.clear()"
   ]
  },
  {
   "cell_type": "code",
   "execution_count": 142,
   "id": "37107a01",
   "metadata": {},
   "outputs": [
    {
     "name": "stdout",
     "output_type": "stream",
     "text": [
      "Enter any character :j\n",
      "Consonent\n"
     ]
    }
   ],
   "source": [
    "ch=input(\"Enter any character :\")\n",
    "if(ch=='a' or ch=='e' or ch=='i'or ch=='o' or ch=='u'):\n",
    "    print('Vowel')\n",
    "else:\n",
    "    print('Consonent')"
   ]
  },
  {
   "cell_type": "code",
   "execution_count": null,
   "id": "ff74f524",
   "metadata": {},
   "outputs": [],
   "source": []
  }
 ],
 "metadata": {
  "kernelspec": {
   "display_name": "Python 3 (ipykernel)",
   "language": "python",
   "name": "python3"
  },
  "language_info": {
   "codemirror_mode": {
    "name": "ipython",
    "version": 3
   },
   "file_extension": ".py",
   "mimetype": "text/x-python",
   "name": "python",
   "nbconvert_exporter": "python",
   "pygments_lexer": "ipython3",
   "version": "3.11.7"
  }
 },
 "nbformat": 4,
 "nbformat_minor": 5
}
