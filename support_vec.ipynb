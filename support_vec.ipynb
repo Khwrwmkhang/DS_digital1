{
 "cells": [
  {
   "cell_type": "code",
   "execution_count": 23,
   "id": "653ec82f",
   "metadata": {},
   "outputs": [
    {
     "data": {
      "text/html": [
       "<div>\n",
       "<style scoped>\n",
       "    .dataframe tbody tr th:only-of-type {\n",
       "        vertical-align: middle;\n",
       "    }\n",
       "\n",
       "    .dataframe tbody tr th {\n",
       "        vertical-align: top;\n",
       "    }\n",
       "\n",
       "    .dataframe thead th {\n",
       "        text-align: right;\n",
       "    }\n",
       "</style>\n",
       "<table border=\"1\" class=\"dataframe\">\n",
       "  <thead>\n",
       "    <tr style=\"text-align: right;\">\n",
       "      <th></th>\n",
       "      <th>Serial No</th>\n",
       "      <th>Employee Name</th>\n",
       "      <th>Age</th>\n",
       "      <th>Experience in Years</th>\n",
       "      <th>Estimated Salary</th>\n",
       "      <th>Monthly Expenditure</th>\n",
       "    </tr>\n",
       "  </thead>\n",
       "  <tbody>\n",
       "    <tr>\n",
       "      <th>0</th>\n",
       "      <td>1</td>\n",
       "      <td>Lynn Sanchez</td>\n",
       "      <td>33</td>\n",
       "      <td>10</td>\n",
       "      <td>50000</td>\n",
       "      <td>16600</td>\n",
       "    </tr>\n",
       "    <tr>\n",
       "      <th>1</th>\n",
       "      <td>2</td>\n",
       "      <td>Sasha Carter</td>\n",
       "      <td>52</td>\n",
       "      <td>28</td>\n",
       "      <td>86000</td>\n",
       "      <td>20400</td>\n",
       "    </tr>\n",
       "    <tr>\n",
       "      <th>2</th>\n",
       "      <td>3</td>\n",
       "      <td>Cameron Lee</td>\n",
       "      <td>57</td>\n",
       "      <td>12</td>\n",
       "      <td>54000</td>\n",
       "      <td>21400</td>\n",
       "    </tr>\n",
       "    <tr>\n",
       "      <th>3</th>\n",
       "      <td>4</td>\n",
       "      <td>Jordan Clark</td>\n",
       "      <td>47</td>\n",
       "      <td>3</td>\n",
       "      <td>36000</td>\n",
       "      <td>19400</td>\n",
       "    </tr>\n",
       "    <tr>\n",
       "      <th>4</th>\n",
       "      <td>5</td>\n",
       "      <td>Kelly Perez</td>\n",
       "      <td>28</td>\n",
       "      <td>5</td>\n",
       "      <td>40000</td>\n",
       "      <td>15600</td>\n",
       "    </tr>\n",
       "  </tbody>\n",
       "</table>\n",
       "</div>"
      ],
      "text/plain": [
       "   Serial No Employee Name  Age  Experience in Years  Estimated Salary  \\\n",
       "0          1  Lynn Sanchez   33                   10             50000   \n",
       "1          2  Sasha Carter   52                   28             86000   \n",
       "2          3   Cameron Lee   57                   12             54000   \n",
       "3          4  Jordan Clark   47                    3             36000   \n",
       "4          5   Kelly Perez   28                    5             40000   \n",
       "\n",
       "   Monthly Expenditure  \n",
       "0                16600  \n",
       "1                20400  \n",
       "2                21400  \n",
       "3                19400  \n",
       "4                15600  "
      ]
     },
     "execution_count": 23,
     "metadata": {},
     "output_type": "execute_result"
    }
   ],
   "source": [
    "import pandas as pd\n",
    "import numpy as np\n",
    "import matplotlib.pyplot as plt\n",
    "\n",
    "a=pd.read_csv(\"employee_datas.csv\")\n",
    "a.head()"
   ]
  },
  {
   "cell_type": "code",
   "execution_count": 24,
   "id": "15f3f875",
   "metadata": {},
   "outputs": [],
   "source": [
    "x=a.iloc[:,[2,4]]\n",
    "y=a.iloc[:,5]"
   ]
  },
  {
   "cell_type": "code",
   "execution_count": 25,
   "id": "5e311be4",
   "metadata": {},
   "outputs": [
    {
     "name": "stdout",
     "output_type": "stream",
     "text": [
      "Age                 0\n",
      "Estimated Salary    0\n",
      "dtype: int64\n"
     ]
    }
   ],
   "source": [
    "print(x.isnull().sum())"
   ]
  },
  {
   "cell_type": "code",
   "execution_count": 26,
   "id": "ea2cb2d8",
   "metadata": {},
   "outputs": [
    {
     "name": "stdout",
     "output_type": "stream",
     "text": [
      "0\n"
     ]
    }
   ],
   "source": [
    "print(y.isnull().sum())"
   ]
  },
  {
   "cell_type": "code",
   "execution_count": 27,
   "id": "99abf285",
   "metadata": {},
   "outputs": [],
   "source": [
    "from sklearn.model_selection import train_test_split\n",
    "x_train,x_test,y_train,y_test = train_test_split(x,y,test_size=0.2)"
   ]
  },
  {
   "cell_type": "code",
   "execution_count": null,
   "id": "94c4dd0a",
   "metadata": {},
   "outputs": [],
   "source": [
    "from sklearn.svm import SVC\n",
    "clf=SVC(kernel='linear')\n",
    "clf.fit(x_train,y_train)\n",
    "y_pred=clf.predict(x_test)"
   ]
  },
  {
   "cell_type": "code",
   "execution_count": 22,
   "id": "918c8874",
   "metadata": {},
   "outputs": [
    {
     "name": "stdout",
     "output_type": "stream",
     "text": [
      "0.0\n"
     ]
    }
   ],
   "source": [
    "from sklearn.metrics import accuracy_score\n",
    "accuracy=accuracy_score(y_test,y_pred)\n",
    "print(accuracy)"
   ]
  },
  {
   "cell_type": "code",
   "execution_count": null,
   "id": "e59fbb4a",
   "metadata": {},
   "outputs": [],
   "source": []
  }
 ],
 "metadata": {
  "kernelspec": {
   "display_name": "Python 3 (ipykernel)",
   "language": "python",
   "name": "python3"
  },
  "language_info": {
   "codemirror_mode": {
    "name": "ipython",
    "version": 3
   },
   "file_extension": ".py",
   "mimetype": "text/x-python",
   "name": "python",
   "nbconvert_exporter": "python",
   "pygments_lexer": "ipython3",
   "version": "3.11.7"
  }
 },
 "nbformat": 4,
 "nbformat_minor": 5
}
